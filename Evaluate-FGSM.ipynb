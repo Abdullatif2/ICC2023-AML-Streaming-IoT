{
 "cells": [
  {
   "cell_type": "code",
   "execution_count": 1,
   "metadata": {},
   "outputs": [],
   "source": [
    "import os\n",
    "import pickle\n",
    "import numpy as np\n",
    "import torch\n",
    "from torch.utils.data.dataset import Dataset\n",
    "from torch.utils.data import DataLoader, sampler\n",
    "from transform import get_train_transforms, get_test_transforms, CLAHE_GRAY\n",
    "from tqdm import tqdm\n",
    "from model import TrafficSignNet\n",
    "from cleverhans.torch.attacks.fast_gradient_method import fast_gradient_method\n",
    "import torchattacks\n",
    "import torch\n",
    "# To load the picked dataset\n",
    "\n",
    "\n",
    "class PickledDataset(Dataset):\n",
    "    def __init__(self, file_path, transform=None):\n",
    "        with open(file_path, mode='rb') as f:\n",
    "            data = pickle.load(f)\n",
    "            self.features = data['features']\n",
    "            self.labels = data['labels']\n",
    "            self.count = len(self.labels)\n",
    "            self.transform = transform\n",
    "\n",
    "    def __getitem__(self, index):\n",
    "        feature = self.features[index]\n",
    "        if self.transform is not None:\n",
    "            feature = self.transform(feature)\n",
    "        return (feature, self.labels[index])\n",
    "\n",
    "    def __len__(self):\n",
    "        return self.count\n",
    "\n",
    "# To move batches to the GPU\n",
    "\n",
    "\n",
    "class WrappedDataLoader:\n",
    "    def __init__(self, dl, func):\n",
    "        self.dl = dl\n",
    "        self.func = func\n",
    "\n",
    "    def __len__(self):\n",
    "        return len(self.dl)\n",
    "\n",
    "    def __iter__(self):\n",
    "        batches = iter(self.dl)\n",
    "        for b in batches:\n",
    "            yield (self.func(*b))\n",
    "\n",
    "\n",
    "def extend_dataset(dataset):\n",
    "    X = dataset.features\n",
    "    y = dataset.labels\n",
    "    num_classes = 43\n",
    "\n",
    "    X_extended = np.empty([0] + list(dataset.features.shape)\n",
    "                          [1:], dtype=dataset.features.dtype)\n",
    "    y_extended = np.empty([0], dtype=dataset.labels.dtype)\n",
    "\n",
    "    horizontally_flippable = [11, 12, 13, 15, 17, 18, 22, 26, 30, 35]\n",
    "    vertically_flippable = [1, 5, 12, 15, 17]\n",
    "    both_flippable = [32, 40]\n",
    "    cross_flippable = np.array([\n",
    "        [19, 20],\n",
    "        [33, 34],\n",
    "        [36, 37],\n",
    "        [38, 39],\n",
    "        [20, 19],\n",
    "        [34, 33],\n",
    "        [37, 36],\n",
    "        [39, 38]\n",
    "    ])\n",
    "\n",
    "    for c in range(num_classes):\n",
    "        X_extended = np.append(X_extended, X[y == c], axis=0)\n",
    "\n",
    "        if c in horizontally_flippable:\n",
    "            X_extended = np.append(\n",
    "                X_extended, X[y == c][:, :, ::-1, :], axis=0)\n",
    "        if c in vertically_flippable:\n",
    "            X_extended = np.append(\n",
    "                X_extended, X[y == c][:, ::-1, :, :], axis=0)\n",
    "        if c in cross_flippable[:, 0]:\n",
    "            flip_c = cross_flippable[cross_flippable[:, 0] == c][0][1]\n",
    "            X_extended = np.append(\n",
    "                X_extended, X[y == flip_c][:, :, ::-1, :], axis=0)\n",
    "        if c in both_flippable:\n",
    "            X_extended = np.append(\n",
    "                X_extended, X[y == c][:, ::-1, ::-1, :], axis=0)\n",
    "\n",
    "        y_extended = np.append(y_extended, np.full(\n",
    "            X_extended.shape[0]-y_extended.shape[0], c, dtype=y_extended.dtype))\n",
    "\n",
    "    dataset.features = X_extended\n",
    "    dataset.labels = y_extended\n",
    "    dataset.count = len(y_extended)\n",
    "\n",
    "    return dataset\n",
    "\n",
    "\n",
    "def preprocess(path):\n",
    "    if not os.path.exists(f\"{path}/train_gray.p\"):\n",
    "        for dataset in ['train', 'valid', 'test']:\n",
    "            with open(f\"{path}/{dataset}.p\", mode='rb') as f:\n",
    "                data = pickle.load(f)\n",
    "                X = data['features']\n",
    "                y = data['labels']\n",
    "\n",
    "            clahe = CLAHE_GRAY()\n",
    "            for i in tqdm(range(len(X)), desc=f\"Processing {dataset} dataset\"):\n",
    "                X[i] = clahe(X[i])\n",
    "\n",
    "            X = X[:, :, :, 0]\n",
    "            with open(f\"{path}/{dataset}_gray.p\", \"wb\") as f:\n",
    "                pickle.dump({\"features\": X.reshape(\n",
    "                    X.shape + (1,)), \"labels\": y}, f)\n",
    "\n",
    "\n",
    "def get_train_loaders(path, device, batch_size, workers, class_count):\n",
    "    def to_device(x, y):\n",
    "        return x.to(device), y.to(device, dtype=torch.int64)\n",
    "\n",
    "    train_dataset = extend_dataset(PickledDataset(\n",
    "        path+'/train_gray.p', transform=get_train_transforms()))\n",
    "    valid_dataset = PickledDataset(\n",
    "        path+'/valid_gray.p', transform=get_test_transforms())\n",
    "\n",
    "    # Use weighted sampler\n",
    "    class_sample_count = np.bincount(train_dataset.labels)\n",
    "    weights = 1 / np.array([class_sample_count[y]\n",
    "                            for y in train_dataset.labels])\n",
    "    samp = sampler.WeightedRandomSampler(weights, 43 * class_count)\n",
    "    train_loader = WrappedDataLoader(DataLoader(\n",
    "        train_dataset, batch_size=batch_size, sampler=samp, num_workers=workers), to_device)\n",
    "    valid_loader = WrappedDataLoader(DataLoader(\n",
    "        valid_dataset, batch_size=batch_size, shuffle=False, num_workers=workers), to_device)\n",
    "\n",
    "    return train_loader, valid_loader\n",
    "\n",
    "\n",
    "def get_test_loader(path, device, gray=True):\n",
    "    def preprocess(x, y):\n",
    "        return x.to(device), y.to(device, dtype=torch.int64)\n",
    "\n",
    "    test_dataset = PickledDataset(\n",
    "        path+'/test_gray.p', transform=get_test_transforms())\n",
    "    test_loader = WrappedDataLoader(DataLoader(\n",
    "        test_dataset, batch_size=64, shuffle=False), preprocess)\n",
    "\n",
    "    return test_loader\n",
    "\n",
    "def get_test_loader_adv(model_adv,path, device, gray=True,ep=0.01):\n",
    "    def preprocess(x, y):\n",
    "        model_ad=TrafficSignNet().to(device)\n",
    "#         x=fast_gradient_method(model_ad, x, eps=0.1, norm=np.inf, clip_min=0., clip_max=1.) \n",
    "        atk = torchattacks.FGSM(model_adv, eps=ep)\n",
    "#         atk = torchattacks.CW(model_adv, c=1, kappa=0, steps=20, lr=0.01)\n",
    "        y=torch.tensor(y, dtype=torch.int64)\n",
    "        x = atk(x, y)\n",
    "        return x.to(device), y.to(device, dtype=torch.int64)\n",
    "\n",
    "    test_dataset = PickledDataset(\n",
    "        path+'/test_gray.p', transform=get_test_transforms())\n",
    "    test_loader = WrappedDataLoader(DataLoader(\n",
    "        test_dataset, batch_size=64, shuffle=False), preprocess)\n",
    "\n",
    "    return test_loader\n"
   ]
  },
  {
   "cell_type": "code",
   "execution_count": 2,
   "metadata": {},
   "outputs": [],
   "source": [
    "import matplotlib.pyplot as plt\n",
    "import numpy as np\n",
    "import argparse\n",
    "import torch\n",
    "from torch import nn\n",
    "from model import TrafficSignNet\n",
    "# from data import get_test_loader,get_test_loader_adv\n",
    "from torchvision.utils import make_grid\n",
    "from train import valid_batch,valid_batch_Adv\n",
    "from tqdm import tqdm\n",
    "\n",
    "\n",
    "def evaluate(model, loss_func, dl):\n",
    "    model.eval()\n",
    "    with torch.no_grad():\n",
    "        losses, corrects, nums = zip(\n",
    "            *[valid_batch(model, loss_func, x, y) for x, y in tqdm(dl)])\n",
    "        test_loss = np.sum(np.multiply(losses, nums)) / np.sum(nums)\n",
    "        test_accuracy = np.sum(corrects) / np.sum(nums) * 100\n",
    "\n",
    "        print(f\"Test loss: {test_loss:.6f}\\t\"\n",
    "              f\"Test accruacy: {test_accuracy:.3f}%\")\n",
    "\n",
    "def evaluateAdv(model, loss_func, dl):\n",
    "    model.eval()\n",
    "    with torch.no_grad():\n",
    "        losses, corrects, nums = zip(\n",
    "            *[valid_batch_Adv(model, loss_func, x, y) for x, y in tqdm(dl)])\n",
    "        test_loss = np.sum(np.multiply(losses, nums)) / np.sum(nums)\n",
    "        test_accuracy = np.sum(corrects) / np.sum(nums) * 100\n",
    "\n",
    "        print(f\"Test loss: {test_loss:.6f}\\t\"\n",
    "              f\"Test accruacy: {test_accuracy:.3f}%\")\n",
    "\n",
    "def convert_image_np(img):\n",
    "    img = img.numpy().transpose((1, 2, 0)).squeeze()\n",
    "    return img\n",
    "\n",
    "\n",
    "def visualize_stn(dl, outfile):\n",
    "    with torch.no_grad():\n",
    "        data = next(iter(dl))[0]\n",
    "\n",
    "        input_tensor = data.cpu()\n",
    "        transformed_tensor = model.stn(data).cpu()\n",
    "\n",
    "        input_grid = convert_image_np(make_grid(input_tensor))\n",
    "        transformed_grid = convert_image_np(make_grid(transformed_tensor))\n",
    "\n",
    "        # Plot the results side-by-side\n",
    "        fig, ax = plt.subplots(1, 2)\n",
    "        fig.set_size_inches((16, 16))\n",
    "        ax[0].imshow(input_grid)\n",
    "        ax[0].set_title('Dataset Images')\n",
    "        ax[0].axis('off')\n",
    "\n",
    "        ax[1].imshow(transformed_grid)\n",
    "        ax[1].set_title('Transformed Images')\n",
    "        ax[1].axis('off')\n",
    "\n",
    "        plt.savefig(outfile)\n"
   ]
  },
  {
   "cell_type": "code",
   "execution_count": 3,
   "metadata": {
    "scrolled": true
   },
   "outputs": [
    {
     "name": "stdout",
     "output_type": "stream",
     "text": [
      "Evaluating Using Adv data and none-mitigating model\n"
     ]
    },
    {
     "name": "stderr",
     "output_type": "stream",
     "text": [
      "  0%|          | 0/198 [00:00<?, ?it/s]<ipython-input-1-3719bddd2ca0>:158: UserWarning: To copy construct from a tensor, it is recommended to use sourceTensor.clone().detach() or sourceTensor.clone().detach().requires_grad_(True), rather than torch.tensor(sourceTensor).\n",
      "  y=torch.tensor(y, dtype=torch.int64)\n",
      "C:\\Users\\amalb\\anaconda3\\envs\\torch-gpu\\lib\\site-packages\\torch\\nn\\functional.py:718: UserWarning: Named tensors and all their associated APIs are an experimental feature and subject to change. Please do not use them for anything important until they are released as stable. (Triggered internally at  ..\\c10/core/TensorImpl.h:1156.)\n",
      "  return torch.max_pool2d(input, kernel_size, stride, padding, dilation, ceil_mode)\n",
      "C:\\Users\\amalb\\anaconda3\\envs\\torch-gpu\\lib\\site-packages\\torch\\nn\\functional.py:4043: UserWarning: Default grid_sample and affine_grid behavior has changed to align_corners=False since 1.3.0. Please specify align_corners=True if the old behavior is desired. See the documentation of grid_sample for details.\n",
      "  warnings.warn(\n",
      "C:\\Users\\amalb\\anaconda3\\envs\\torch-gpu\\lib\\site-packages\\torch\\nn\\functional.py:3981: UserWarning: Default grid_sample and affine_grid behavior has changed to align_corners=False since 1.3.0. Please specify align_corners=True if the old behavior is desired. See the documentation of grid_sample for details.\n",
      "  warnings.warn(\n",
      "100%|██████████| 198/198 [00:17<00:00, 11.28it/s]\n"
     ]
    },
    {
     "name": "stdout",
     "output_type": "stream",
     "text": [
      "Test loss: 0.552430\tTest accruacy: 85.629%\n",
      "Evaluating Using Adv data and mitigating model\n"
     ]
    },
    {
     "name": "stderr",
     "output_type": "stream",
     "text": [
      "100%|██████████| 198/198 [00:12<00:00, 15.57it/s]\n"
     ]
    },
    {
     "name": "stdout",
     "output_type": "stream",
     "text": [
      "Test loss: 0.223826\tTest accruacy: 93.175%\n",
      "Evaluating Using Adv data and none-mitigating model\n"
     ]
    },
    {
     "name": "stderr",
     "output_type": "stream",
     "text": [
      "100%|██████████| 198/198 [00:12<00:00, 15.53it/s]\n"
     ]
    },
    {
     "name": "stdout",
     "output_type": "stream",
     "text": [
      "Test loss: 2.343763\tTest accruacy: 52.676%\n",
      "Evaluating Using Adv data and mitigating model\n"
     ]
    },
    {
     "name": "stderr",
     "output_type": "stream",
     "text": [
      "100%|██████████| 198/198 [00:12<00:00, 15.57it/s]\n"
     ]
    },
    {
     "name": "stdout",
     "output_type": "stream",
     "text": [
      "Test loss: 0.526717\tTest accruacy: 80.554%\n",
      "Evaluating Using Adv data and none-mitigating model\n"
     ]
    },
    {
     "name": "stderr",
     "output_type": "stream",
     "text": [
      "100%|██████████| 198/198 [00:12<00:00, 15.67it/s]\n"
     ]
    },
    {
     "name": "stdout",
     "output_type": "stream",
     "text": [
      "Test loss: 4.847048\tTest accruacy: 30.230%\n",
      "Evaluating Using Adv data and mitigating model\n"
     ]
    },
    {
     "name": "stderr",
     "output_type": "stream",
     "text": [
      "100%|██████████| 198/198 [00:12<00:00, 15.61it/s]\n"
     ]
    },
    {
     "name": "stdout",
     "output_type": "stream",
     "text": [
      "Test loss: 1.056176\tTest accruacy: 62.130%\n",
      "Evaluating Using Adv data and none-mitigating model\n"
     ]
    },
    {
     "name": "stderr",
     "output_type": "stream",
     "text": [
      "100%|██████████| 198/198 [00:12<00:00, 15.65it/s]\n"
     ]
    },
    {
     "name": "stdout",
     "output_type": "stream",
     "text": [
      "Test loss: 8.237821\tTest accruacy: 13.484%\n",
      "Evaluating Using Adv data and mitigating model\n"
     ]
    },
    {
     "name": "stderr",
     "output_type": "stream",
     "text": [
      "100%|██████████| 198/198 [00:12<00:00, 15.23it/s]"
     ]
    },
    {
     "name": "stdout",
     "output_type": "stream",
     "text": [
      "Test loss: 1.972022\tTest accruacy: 41.876%\n"
     ]
    },
    {
     "name": "stderr",
     "output_type": "stream",
     "text": [
      "\n"
     ]
    }
   ],
   "source": [
    "device = torch.device(\"cuda\" if torch.cuda.is_available() else \"cpu\")\n",
    "checkpoint = torch.load('./model_adv/modeladv_FGSM.pt', map_location=device)\n",
    "checkpoint2 = torch.load('./model_benign/model.pt', map_location=device)\n",
    "# Neural Network and Loss Function\n",
    "model = TrafficSignNet().to(device)\n",
    "model.load_state_dict(checkpoint)\n",
    "model.eval()\n",
    "criterion = nn.CrossEntropyLoss()\n",
    "\n",
    "model2 = TrafficSignNet().to(device)\n",
    "model2.load_state_dict(checkpoint2)\n",
    "model2.eval()\n",
    "criterion2 = nn.CrossEntropyLoss()\n",
    "eps = [8/255,16/255,25.5/255,50/255]\n",
    "losses_no=[]\n",
    "accuracies_no=[]\n",
    "losses_mit=[]\n",
    "accuracies_mit=[]\n",
    "for ep in eps:\n",
    "    # Data Initialization and Loading\n",
    "#     test_loader = get_test_loader('./data', device)\n",
    "    test_loader_adv = get_test_loader_adv(model2, './data', device,True,ep)\n",
    "    print('Evaluating Using Adv data and none-mitigating model')\n",
    "\n",
    "    # evaluate(model2, criterion2, test_loader)\n",
    "\n",
    "    losses, corrects, nums = zip(*[valid_batch(model2, criterion, x, y) for x, y in tqdm(test_loader_adv)])\n",
    "    test_loss = np.sum(np.multiply(losses, nums)) / np.sum(nums)\n",
    "    test_accuracy = np.sum(corrects) / np.sum(nums) * 100\n",
    "    losses_no.append(test_loss)\n",
    "    accuracies_no.append(test_accuracy)\n",
    "    print(f\"Test loss: {test_loss:.6f}\\t\"\n",
    "      f\"Test accruacy: {test_accuracy:.3f}%\")\n",
    "    # visualize_stn(test_loader, args.outfile)\n",
    "    print('Evaluating Using Adv data and mitigating model')\n",
    "\n",
    "    # evaluate(model, criterion, test_loader)\n",
    "\n",
    "    losses, corrects, nums = zip(*[valid_batch(model, criterion, x, y) for x, y in tqdm(test_loader_adv)])\n",
    "    test_loss = np.sum(np.multiply(losses, nums)) / np.sum(nums)\n",
    "    test_accuracy = np.sum(corrects) / np.sum(nums) * 100\n",
    "    losses_mit.append(test_loss)\n",
    "    accuracies_mit.append(test_accuracy)\n",
    "    print(f\"Test loss: {test_loss:.6f}\\t\"\n",
    "      f\"Test accruacy: {test_accuracy:.3f}%\")"
   ]
  },
  {
   "cell_type": "code",
   "execution_count": 5,
   "metadata": {},
   "outputs": [
    {
     "data": {
      "image/png": "[encoded data removed]",
      "text/plain": [
       "<Figure size 640x480 with 2 Axes>"
      ]
     },
     "metadata": {},
     "output_type": "display_data"
    }
   ],
   "source": [
    "import matplotlib.pyplot as plt\n",
    "import numpy as np\n",
    "\n",
    "\n",
    "labels = [str(float(\"{:.2f}\".format(ep))) for ep in eps]\n",
    "non_mitigate_accus = [acc for acc in accuracies_no]\n",
    "mitigate_accus = [acc for acc in accuracies_mit]\n",
    "\n",
    "non_mitigate_losses = [loss for loss in losses_no]\n",
    "mitigate_losses = [loss for loss in losses_mit]\n",
    "\n",
    "x = np.arange(len(labels))  # the label locations\n",
    "width = 0.25 # the width of the bars\n",
    "\n",
    "fig, (ax1, ax2) = plt.subplots(2)\n",
    "rects1 = ax1.bar(x - width/2, non_mitigate_accus, width, label='none-mitigating model',color='orange', edgecolor='black', hatch=\"/\")\n",
    "rects2 = ax1.bar(x + width/2, mitigate_accus, width, label='mitigating model', color='blue', ecolor='black',hatch='o')\n",
    "# Add some text for labels, title and custom x-axis tick labels, etc.\n",
    "ax1.set_ylabel('Accuracy')\n",
    "ax1.set_title('Testing Accuracy using different perturbations for both models')\n",
    "ax1.set_xticks(x)\n",
    "ax1.set_xticklabels(labels)\n",
    "ax1.legend(loc='best')\n",
    "\n",
    "rects1 = ax2.bar(x - width/2, non_mitigate_losses, width, label='none-mitigating model',color='red', edgecolor='black', hatch=\"/\")\n",
    "rects2 = ax2.bar(x + width/2, mitigate_losses, width, label='mitigating model', color='green', ecolor='black',hatch='o')\n",
    "# Add some text for labels, title and custom x-axis tick labels, etc.\n",
    "ax2.set_ylabel('Loss')\n",
    "ax2.set_title('Testing Loss using different perturbations for both models')\n",
    "ax2.set_xticks(x)\n",
    "ax2.set_xticklabels(labels)\n",
    "ax2.legend(loc='best')\n",
    "\n",
    "# ax.bar_label(rects1, padding=3)\n",
    "# ax.bar_label(rects2, padding=3)\n",
    "\n",
    "# ax.set_ylim(0,1)\n",
    "fig.tight_layout()\n",
    "\n",
    "plt.show()"
   ]
  },
  {
   "cell_type": "code",
   "execution_count": 7,
   "metadata": {},
   "outputs": [],
   "source": [
    "def accuracy(out, y):\n",
    "    '''\n",
    "    Calculate accuracy of model where\n",
    "    out.shape = (64, 2) and y.shape = (64)\n",
    "    '''\n",
    "    out = torch.max(out, 1)[1].float()\n",
    "#     print('out',len(out))\n",
    "    eq = torch.eq(out, y.float()).float()\n",
    "    return torch.mean(eq)"
   ]
  },
  {
   "cell_type": "code",
   "execution_count": 9,
   "metadata": {},
   "outputs": [],
   "source": [
    "#models=[model2, model3]\n",
    "X=[]\n",
    "Y=[]\n",
    "test_loader = get_test_loader('./data', device)\n",
    "count=0\n",
    "for data, target in test_loader:\n",
    "    count+=1\n",
    "    X.append(data.to(device))\n",
    "    Y.append(target.to(device))\n",
    "    X_test= data.to(device)\n",
    "    X.append(X_test)\n",
    "    Y_test = target.to(device)\n",
    "    Y.append(Y_test)"
   ]
  },
  {
   "cell_type": "code",
   "execution_count": 55,
   "metadata": {},
   "outputs": [],
   "source": [
    "import torch.nn.functional as F\n",
    "outall_adv_m1=[]\n",
    "accu_adv_m1=[]\n",
    "lenX=7\n",
    "# model=models[4]\n",
    "top_p1_adv, top_class1_adv  = [],[]\n",
    "for i in range(lenX):\n",
    "    model.eval()\n",
    "    X_test = X[i].to(device)\n",
    "    X_test = fast_gradient_method(model, X_test, eps=0.01, norm=np.inf) \n",
    "#     delta = pgd(model, X_test, Y[i], 0.1, 1e4, 100)\n",
    "#     out= model(X_test+delta) \n",
    "    out= model(X_test) \n",
    "    #     print('model',i)\n",
    "    #     print(F.softmax(out, dim=1))\n",
    "    prob = F.softmax(out, dim=1)\n",
    "    outall_adv_m1.append(prob)\n",
    "    top_p1_adv_temp, top_class1_adv_temp = prob.topk(1, dim = 1)\n",
    "    top_p1_adv.append(top_p1_adv_temp)\n",
    "    top_class1_adv.append(top_class1_adv_temp)\n",
    "    accu_adv_m1.append(accuracy(out, Y[i]).cpu().data.numpy())"
   ]
  },
  {
   "cell_type": "code",
   "execution_count": 56,
   "metadata": {},
   "outputs": [],
   "source": [
    "outall_adv_m3=[]\n",
    "accu_adv_m3=[]\n",
    "# model=models[2]\n",
    "top_p3_adv, top_class3_adv  = [],[]\n",
    "for i in range(lenX):\n",
    "    model2.eval()\n",
    "    X_test = X[i]\n",
    "    X_test = fast_gradient_method(model2, X_test, eps=0.3, norm=np.inf)\n",
    "#     delta = pgd(model, X_test, Y[i], 0.1, 1e4, 100)\n",
    "#     out= model(X_test+delta) \n",
    "    out= model2(X_test) \n",
    "    #     print('model',i)\n",
    "    #     print(F.softmax(out, dim=1))\n",
    "    prob = F.softmax(out, dim=1)\n",
    "    outall_adv_m3.append(prob)\n",
    "    top_p3_adv_temp, top_class3_adv_temp = prob.topk(1, dim = 1)\n",
    "    top_p3_adv.append(top_p3_adv_temp)\n",
    "    top_class3_adv.append(top_class3_adv_temp)\n",
    "    accu_adv_m3.append(accuracy(out, Y[i]).cpu().data.numpy())"
   ]
  },
  {
   "cell_type": "code",
   "execution_count": 57,
   "metadata": {},
   "outputs": [],
   "source": [
    "outall_m1=[]\n",
    "accu_m1=[]\n",
    "# model=models[4]\n",
    "top_p1, top_class1  = [],[]\n",
    "for i in range(lenX):\n",
    "    model.eval()\n",
    "    X_test = X[i]\n",
    "#     X_test = fast_gradient_method(model, X_test, eps=0.03, norm=np.inf)                \n",
    "    out= model(X_test) \n",
    "    #     print('model',i)\n",
    "    #     print(F.softmax(out, dim=1))\n",
    "    prob = F.softmax(out, dim=1)\n",
    "    outall_m1.append(prob)\n",
    "    top_p1_temp, top_class1_temp = prob.topk(1, dim = 1)\n",
    "    top_p1.append(top_p1_temp)\n",
    "    top_class1.append(top_class1_temp)\n",
    "    accu_m1.append(accuracy(out, Y[i]).cpu().data.numpy())"
   ]
  },
  {
   "cell_type": "code",
   "execution_count": 58,
   "metadata": {},
   "outputs": [],
   "source": [
    "outall_m3=[]\n",
    "accu_m3=[]\n",
    "# model=models[2]\n",
    "top_p3, top_class3  = [],[]\n",
    "for i in range(lenX):\n",
    "    model2.eval()\n",
    "    X_test = X[i]\n",
    "#     X_test = fast_gradient_method(model, X_test, eps=0.03, norm=np.inf)                \n",
    "    out= model2(X_test) \n",
    "    #     print('model',i)\n",
    "    #     print(F.softmax(out, dim=1))\n",
    "    prob= F.softmax(out, dim=1)\n",
    "    outall_m3.append(prob)\n",
    "    top_p3_temp, top_class3_temp = prob.topk(1, dim = 1)\n",
    "    top_p3.append(top_p3_temp)\n",
    "    top_class3.append(top_class3_temp)\n",
    "    accu_m3.append(accuracy(out, Y[i]).cpu().data.numpy())"
   ]
  },
  {
   "cell_type": "code",
   "execution_count": 59,
   "metadata": {},
   "outputs": [],
   "source": [
    "divall1=[]\n",
    "divall2=[]\n",
    "for j in range(lenX):\n",
    "    for i in range(len(outall_adv_m1[j])):\n",
    "#         Adv_count2_attack.append(1)\n",
    "        divall1.append(kl_divergence(outall_adv_m1[j][i],outall_adv_m3[j][i]).detach().cpu().numpy())\n",
    "        divall2.append(kl_divergence(outall_m3[j][i],outall_m1[j][i]).detach().cpu().numpy())"
   ]
  },
  {
   "cell_type": "code",
   "execution_count": 17,
   "metadata": {},
   "outputs": [
    {
     "name": "stdout",
     "output_type": "stream",
     "text": [
      "396\n"
     ]
    }
   ],
   "source": []
  },
  {
   "cell_type": "code",
   "execution_count": 60,
   "metadata": {},
   "outputs": [],
   "source": [
    "from math import log2\n",
    " \n",
    "# calculate the kl divergence\n",
    "def kl_divergence(p, q):\n",
    "    return sum(p[i] * log2(p[i]/q[i]) for i in range(len(p)))\n",
    " "
   ]
  },
  {
   "cell_type": "code",
   "execution_count": 61,
   "metadata": {},
   "outputs": [
    {
     "name": "stdout",
     "output_type": "stream",
     "text": [
      "0.6914624612740131\n",
      "col_0   0.000005  0.000005  0.000008  0.000018  0.000021  0.000041  0.000041  \\\n",
      "row_0                                                                          \n",
      "counts         2         2         2         2         1         1         1   \n",
      "\n",
      "col_0   0.000051  0.000061  0.000079  ...  0.455173  0.464312  0.521442  \\\n",
      "row_0                                 ...                                 \n",
      "counts         1         1         1  ...         2         2         2   \n",
      "\n",
      "col_0   0.794890  1.073648  1.220396  1.685471  2.928273  3.337128  3.798805  \n",
      "row_0                                                                         \n",
      "counts         1         2         2         2         2         2         2  \n",
      "\n",
      "[1 rows x 256 columns]\n",
      "Mean=12.940, Standard Deviation=6.722\n",
      "Mean=0.104, Standard Deviation=0.420\n",
      "Min sample1 0.03421705216169357,max sample1 30.20583724975586 ,min sample2 4.815502506971825e-06, max sample2 0.7948898673057556\n"
     ]
    },
    {
     "data": {
      "image/png": "[encoded data removed]",
      "text/plain": [
       "<Figure size 432x288 with 1 Axes>"
      ]
     },
     "metadata": {
      "needs_background": "light"
     },
     "output_type": "display_data"
    }
   ],
   "source": [
    "# example of parametric probability density estimation\n",
    "import matplotlib.pyplot as plt\n",
    "from numpy.random import normal\n",
    "from numpy import mean\n",
    "from numpy import std\n",
    "from scipy.stats import norm\n",
    "from scipy import stats\n",
    "import numpy as np\n",
    "import pandas as pd\n",
    "# generate a sample\n",
    "sample =np.array(divall1)\n",
    "sample2 =np.array(divall2)\n",
    "\n",
    "# calculate parameters\n",
    "sample_mean = mean(sample)\n",
    "sample_std = std(sample)\n",
    "sample_mean2 = mean(sample2)\n",
    "sample_std2 = std(sample2)\n",
    "\n",
    "# pd.DataFrame(sample).plot(kind=\"density\",figsize = (9,9))\n",
    "# pd.DataFrame(sample2).plot(kind=\"density\",figsize = (9,9))\n",
    "print(stats.norm.cdf(x=0.5))\n",
    "print(pd.crosstab(index=\"counts\",columns = sample2))\n",
    "\n",
    "an_array = np.array([1, 4, 1, 1, 2, 1, 3])\n",
    "mean = np.mean(an_array)\n",
    "# standard_deviation = np.std(an_array)\n",
    "distance_from_mean = abs(sample2 - sample_mean2)\n",
    "max_deviations = 2\n",
    "\n",
    "not_outlier = distance_from_mean < max_deviations * sample_std2\n",
    "sample2 = sample2[not_outlier]\n",
    "\n",
    "print('Mean=%.3f, Standard Deviation=%.3f' % (sample_mean, sample_std))\n",
    "print('Mean=%.3f, Standard Deviation=%.3f' % (sample_mean2, sample_std2))\n",
    "print(f'Min sample1 {min(sample)},max sample1 {max(sample)} ,min sample2 {min(sample2)}, max sample2 {max(sample2)}')\n",
    "# define the distribution\n",
    "dist = norm(sample_mean, sample_std)\n",
    "dist2= norm(sample_mean2, sample_std2)\n",
    "# sample probabilities for a range of outcomes\n",
    "values = [value for value in range(round(min(sample)), round(max(sample)))]\n",
    "values2 = [value for value in range(round(min(sample2)),round(max(sample2)))]\n",
    "\n",
    "probabilities = [dist.pdf(value) for value in values]\n",
    "probabilities2 = [dist.pdf(value) for value in values2]\n",
    "\n",
    "# plot the histogram and pdf\n",
    "plt.hist(sample, bins=10, density=True)\n",
    "# plt.hist(sample2, bins=10, density=True)\n",
    "\n",
    "# plt.plot(values, probabilities,color= 'r')\n",
    "plt.plot(values2, probabilities2)\n",
    "\n",
    "plt.show()"
   ]
  },
  {
   "cell_type": "code",
   "execution_count": 62,
   "metadata": {},
   "outputs": [
    {
     "name": "stdout",
     "output_type": "stream",
     "text": [
      "[0.01402376 0.02025693 0.03008326 0.05049043 0.07530778 0.14629233\n",
      " 0.24466606]\n"
     ]
    }
   ],
   "source": [
    "p=np.zeros(7)\n",
    "for i in range(7):\n",
    "    p[i] = np.percentile(sample2, 100-(5*(i+1))) \n",
    "\n",
    "print(np.flip(p))"
   ]
  },
  {
   "cell_type": "code",
   "execution_count": 63,
   "metadata": {},
   "outputs": [],
   "source": [
    "Thresholds_ = np.flip(p)"
   ]
  },
  {
   "cell_type": "code",
   "execution_count": 65,
   "metadata": {},
   "outputs": [
    {
     "name": "stdout",
     "output_type": "stream",
     "text": [
      "False_alarm 435 True_alarm 0\n",
      "False_alarm 435 True_alarm 0\n",
      "False_alarm 435 True_alarm 0\n",
      "False_alarm 434 True_alarm 0\n",
      "False_alarm 434 True_alarm 0\n",
      "False_alarm 434 True_alarm 0\n",
      "False_alarm 433 True_alarm 0\n",
      "Number of adverserial Samples is: 448 no divergence 4 divergence 444\n"
     ]
    }
   ],
   "source": [
    "# Adverserial Input:\n",
    "count=0\n",
    "div1_attack=[]\n",
    "div2_attack=[]\n",
    "adv=0\n",
    "no_adv=0\n",
    "adv_all_attack=[]\n",
    "no_adv_all_attack=[]\n",
    "Adv_count2_attackin=[]\n",
    "no_adv_all_attackin=[]\n",
    "\n",
    "num_sucess_attack = []\n",
    "num_nosucess_attack = []\n",
    "num_detected_attack = []\n",
    "num_nodetected_attack = []\n",
    "\n",
    "for k,Thresh in enumerate(Thresholds_):\n",
    "    Adv_count2_attack=[]\n",
    "    div_count2_attack = []\n",
    "#     num_sucess_attack_t = []\n",
    "#     num_nosucess_attack_t = []\n",
    "#     num_detected_attack_t = []\n",
    "    adv=0\n",
    "    no_adv=0\n",
    "    success_attack = 0\n",
    "    no_success_attack = 0\n",
    "    success_detected_attck = 0\n",
    "    success_nodetected_attck = 0\n",
    "    False_alarm = 0\n",
    "    True_alarm = 0\n",
    "    for j in range(lenX):\n",
    "        for i in range(len(outall_adv_m1[j])):\n",
    "            Adv_count2_attack.append(1)\n",
    "            dif1=kl_divergence(outall_adv_m1[j][i],outall_adv_m3[j][i])\n",
    "            dif2=kl_divergence(outall_adv_m3[j][i],outall_adv_m1[j][i])\n",
    "            dif2_compare = kl_divergence(outall_m3[j][i],outall_m1[j][i])\n",
    "#             print('dif1=',dif1,'dif2 = ',dif2)\n",
    "            div1_attack.append(dif1.detach().item())\n",
    "            div2_attack.append(dif2.detach().item())\n",
    "#             print('top_class1_adv[j][i] , top_class3_adv[j][i]  , Y[j][i]',top_class1_adv[j][i] , Y[j][i],top_class3_adv[j][i])\n",
    "            if top_class1_adv[j][i] == Y[j][i] == top_class3_adv[j][i] and dif2.item() > Thresh:\n",
    "                no_success_attack=no_success_attack + 1\n",
    "                success_detected_attck  = success_detected_attck+ 1 \n",
    "                False_alarm = False_alarm+1\n",
    "            \n",
    "            if top_class1_adv[j][i] == Y[j][i] == top_class3_adv[j][i] and dif2.item() < Thresh:\n",
    "                no_success_attack = no_success_attack + 1\n",
    "                success_nodetected_attck  = success_nodetected_attck+ 1     \n",
    "                \n",
    "            if top_class1_adv[j][i]  == top_class3_adv[j][i]  != Y[j][i] and dif2.item() > Thresh:\n",
    "                True_alarm = True_alarm + 1\n",
    "                success_attack = success_attack+1\n",
    "                success_detected_attck  = success_detected_attck+ 1 \n",
    "            \n",
    "            if top_class1_adv[j][i]  == top_class3_adv[j][i]  != Y[j][i] and dif2.item() < Thresh:\n",
    "                success_attack = success_attack+1\n",
    "                success_nodetected_attck  = success_nodetected_attck+ 1     \n",
    "                \n",
    "            if top_class1_adv[j][i]  == Y[j][i] != top_class3_adv[j][i] and dif2.item() > Thresh:\n",
    "                False_alarm = False_alarm+1\n",
    "                success_detected_attck  = success_detected_attck+ 1 \n",
    "                no_success_attack=no_success_attack + 1\n",
    "            \n",
    "            if top_class3_adv[j][i]  == Y[j][i] != top_class1_adv[j][i] and dif2.item() > Thresh:\n",
    "                True_alarm = True_alarm + 1\n",
    "                success_detected_attck  = success_detected_attck+ 1 \n",
    "                no_success_attack=no_success_attack + 1    \n",
    "            \n",
    "            if top_class1_adv[j][i]  == Y[j][i] != top_class3_adv[j][i] and dif2.item() < Thresh:\n",
    "#                 success_attack = success_attack+1\n",
    "                success_nodetected_attck  = success_nodetected_attck+ 1 \n",
    "                no_success_attack=no_success_attack + 1\n",
    "\n",
    "#             print('Success',success_attack, 'No-sucess',no_success_attack,'success_detected_attck',success_detected_attck,'dif2.item()',dif2.item(),'dif2_compare',dif2_compare.item())    \n",
    "   \n",
    "            if dif2.item() >Thresh:\n",
    "                div_count2_attack.append(1)\n",
    "                adv+=1\n",
    "            else:\n",
    "                div_count2_attack.append(0)\n",
    "                no_adv+=1  \n",
    "    print('False_alarm',False_alarm,'True_alarm',True_alarm)\n",
    "    num_sucess_attack.append(success_attack)\n",
    "    num_nosucess_attack.append(no_success_attack)\n",
    "    num_detected_attack.append(success_detected_attck)   \n",
    "    num_nodetected_attack.append(success_nodetected_attck) \n",
    "    adv_all_attack.append(adv)\n",
    "    no_adv_all_attack.append(no_adv)\n",
    "    Adv_count2_attackin.append(Adv_count2_attack)\n",
    "    no_adv_all_attackin.append(div_count2_attack)\n",
    "print('Number of adverserial Samples is:',no_adv+adv,'no divergence', no_adv,'divergence', adv)  "
   ]
  },
  {
   "cell_type": "code",
   "execution_count": 66,
   "metadata": {},
   "outputs": [
    {
     "data": {
      "text/plain": [
       "40580.0174889192"
      ]
     },
     "execution_count": 66,
     "metadata": {},
     "output_type": "execute_result"
    }
   ],
   "source": [
    "sum(div1_attack)"
   ]
  },
  {
   "cell_type": "code",
   "execution_count": 67,
   "metadata": {},
   "outputs": [
    {
     "data": {
      "text/plain": [
       "37473.04503071029"
      ]
     },
     "execution_count": 67,
     "metadata": {},
     "output_type": "execute_result"
    }
   ],
   "source": [
    "sum(div2_attack)"
   ]
  },
  {
   "cell_type": "code",
   "execution_count": 69,
   "metadata": {},
   "outputs": [
    {
     "name": "stdout",
     "output_type": "stream",
     "text": [
      "Number of adverserial Samples is: 448 no divergence 414 divergence 34\n"
     ]
    }
   ],
   "source": [
    "# benign Input:\n",
    "count=0\n",
    "div1_noattack=[]\n",
    "div2_noattack=[]\n",
    "adv=0\n",
    "no_adv=0\n",
    "adv_all_noattack=[]\n",
    "no_adv_all_noattack=[]\n",
    "Adv_count2_noattackin=[]\n",
    "no_adv_all_noattackin=[]\n",
    "# Thresholds_ = [0.5,1,1.5,2,3,4,5]\n",
    "for k, Thresh in enumerate(Thresholds_):\n",
    "    Adv_count2_noattack=[]\n",
    "    div_count2_noattack = []\n",
    "    adv=0\n",
    "    no_adv=0\n",
    "    for j in range(lenX):\n",
    "        for i in range(len(outall_adv_m1[j])):\n",
    "            Adv_count2_noattack.append(0)\n",
    "            dif1=kl_divergence(outall_m1[j][i],outall_m3[j][i])\n",
    "            dif2=kl_divergence(outall_m3[j][i],outall_m1[j][i])\n",
    "            div1_noattack.append(dif1.detach().item())\n",
    "#             print('dif1=',dif1,'dif2 = ',dif2)\n",
    "            div2_noattack.append(dif2.detach().item())\n",
    "            if dif2.item() > Thresh:\n",
    "                div_count2_noattack.append(1)\n",
    "                adv+=1\n",
    "            else:\n",
    "                div_count2_noattack.append(0)\n",
    "                no_adv+=1\n",
    "    adv_all_noattack.append(adv)\n",
    "    no_adv_all_noattack.append(no_adv)\n",
    "    Adv_count2_noattackin.append(Adv_count2_noattack)\n",
    "    no_adv_all_noattackin.append(div_count2_noattack)\n",
    "print('Number of adverserial Samples is:',no_adv+adv,'no divergence', no_adv,'divergence', adv)  "
   ]
  },
  {
   "cell_type": "code",
   "execution_count": 70,
   "metadata": {},
   "outputs": [
    {
     "data": {
      "text/plain": [
       "1671.752454056259"
      ]
     },
     "execution_count": 70,
     "metadata": {},
     "output_type": "execute_result"
    }
   ],
   "source": [
    "sum(div1_noattack)"
   ]
  },
  {
   "cell_type": "code",
   "execution_count": 71,
   "metadata": {},
   "outputs": [
    {
     "data": {
      "text/plain": [
       "327.10579115583187"
      ]
     },
     "execution_count": 71,
     "metadata": {},
     "output_type": "execute_result"
    }
   ],
   "source": [
    "sum(div2_noattack)"
   ]
  },
  {
   "cell_type": "code",
   "execution_count": 81,
   "metadata": {},
   "outputs": [
    {
     "name": "stdout",
     "output_type": "stream",
     "text": [
      "Confusion matrix, without normalization\n",
      "[[284 164]\n",
      " [  2 446]]\n",
      "Confusion matrix, without normalization\n",
      "[[305 143]\n",
      " [  2 446]]\n",
      "Confusion matrix, without normalization\n",
      "[[328 120]\n",
      " [  2 446]]\n",
      "Confusion matrix, without normalization\n",
      "[[350  98]\n",
      " [  3 445]]\n",
      "Confusion matrix, without normalization\n",
      "[[370  78]\n",
      " [  3 445]]\n",
      "Confusion matrix, without normalization\n",
      "[[393  55]\n",
      " [  3 445]]\n",
      "Confusion matrix, without normalization\n",
      "[[414  34]\n",
      " [  4 444]]\n"
     ]
    },
    {
     "data": {
      "image/png": "[encoded data removed]",
      "text/plain": [
       "<Figure size 720x720 with 2 Axes>"
      ]
     },
     "metadata": {
      "needs_background": "light"
     },
     "output_type": "display_data"
    },
    {
     "data": {
      "image/png": "[encoded data removed]",
      "text/plain": [
       "<Figure size 720x720 with 2 Axes>"
      ]
     },
     "metadata": {
      "needs_background": "light"
     },
     "output_type": "display_data"
    },
    {
     "data": {
      "image/png": "[encoded data removed]",
      "text/plain": [
       "<Figure size 720x720 with 2 Axes>"
      ]
     },
     "metadata": {
      "needs_background": "light"
     },
     "output_type": "display_data"
    },
    {
     "data": {
      "image/png": "[encoded data removed]",
      "text/plain": [
       "<Figure size 720x720 with 2 Axes>"
      ]
     },
     "metadata": {
      "needs_background": "light"
     },
     "output_type": "display_data"
    },
    {
     "data": {
      "image/png": "[encoded data removed]",
      "text/plain": [
       "<Figure size 720x720 with 2 Axes>"
      ]
     },
     "metadata": {
      "needs_background": "light"
     },
     "output_type": "display_data"
    },
    {
     "data": {
      "image/png": "[encoded data removed]",
      "text/plain": [
       "<Figure size 720x720 with 2 Axes>"
      ]
     },
     "metadata": {
      "needs_background": "light"
     },
     "output_type": "display_data"
    },
    {
     "data": {
      "image/png": "[encoded data removed]",
      "text/plain": [
       "<Figure size 720x720 with 2 Axes>"
      ]
     },
     "metadata": {
      "needs_background": "light"
     },
     "output_type": "display_data"
    }
   ],
   "source": [
    "from sklearn.metrics import confusion_matrix\n",
    "for j, Thresh in enumerate(Thresholds_):    \n",
    "        Adv_countall = Adv_count2_noattackin[j]+Adv_count2_attackin[j]\n",
    "        div_countall = no_adv_all_noattackin[j] + no_adv_all_attackin[j]\n",
    "        cm = confusion_matrix(Adv_countall,div_countall)\n",
    "        plot_cm(cm, title='Confusion matrix (Threshold = '+str(Thresh)+')',save_title= 'Confusion_matrix_Threshold_CW'+str(Thresh)+'.pdf')"
   ]
  },
  {
   "cell_type": "code",
   "execution_count": 80,
   "metadata": {},
   "outputs": [],
   "source": [
    "def plot_cm(cm, title='Confusion matrix', save_title='untiteled'):\n",
    "    plt.figure(figsize=(10,10))\n",
    "    names=['Adv','Bengin']\n",
    "    plot_confusion_matrix(cm, names,title=title,save_title=save_title)"
   ]
  },
  {
   "cell_type": "code",
   "execution_count": 79,
   "metadata": {},
   "outputs": [],
   "source": [
    "import matplotlib.pyplot as plt\n",
    "import numpy as np\n",
    "import itertools\n",
    "import os\n",
    "\n",
    "def plot_confusion_matrix(cm, classes, normalize=False, title='Confusion matrix',save_title='untitled', cmap=plt.cm.Blues):\n",
    "    if normalize:\n",
    "        cm = cm.astype('float') / cm.sum(axis=1)[:, np.newaxis]\n",
    "        print(\"Normalized confusion matrix\")\n",
    "    else:\n",
    "        print('Confusion matrix, without normalization')\n",
    "\n",
    "    print(cm)\n",
    "    plt.imshow(cm, interpolation='nearest', cmap=cmap)\n",
    "    plt.title(title)\n",
    "    plt.colorbar()\n",
    "    tick_marks = np.arange(len(classes))\n",
    "    plt.xticks(tick_marks, classes, rotation=45)\n",
    "    plt.yticks(tick_marks, classes)\n",
    "\n",
    "    fmt = '.2f' if normalize else 'd'\n",
    "    thresh = cm.max() / 2.\n",
    "    for i, j in itertools.product(range(cm.shape[0]), range(cm.shape[1])):\n",
    "        plt.text(j, i, format(cm[i, j], fmt), horizontalalignment=\"center\", color=\"white\" if cm[i, j] > thresh else \"black\")\n",
    "    plt.tight_layout()\n",
    "    plt.ylabel('')\n",
    "    plt.xlabel('')  \n",
    "    plt.savefig('./figures/Confusion-matrix/'+save_title)\n"
   ]
  },
  {
   "cell_type": "code",
   "execution_count": null,
   "metadata": {},
   "outputs": [],
   "source": []
  }
 ],
 "metadata": {
  "kernelspec": {
   "display_name": "Python 3",
   "language": "python",
   "name": "python3"
  },
  "language_info": {
   "codemirror_mode": {
    "name": "ipython",
    "version": 3
   },
   "file_extension": ".py",
   "mimetype": "text/x-python",
   "name": "python",
   "nbconvert_exporter": "python",
   "pygments_lexer": "ipython3",
   "version": "3.8.8"
  }
 },
 "nbformat": 4,
 "nbformat_minor": 4
}
